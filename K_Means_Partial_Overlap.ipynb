{
  "nbformat": 4,
  "nbformat_minor": 0,
  "metadata": {
    "colab": {
      "name": "K Means - Partial Overlap.ipynb",
      "provenance": [],
      "authorship_tag": "ABX9TyOuLUePshlvDB+18BSodD6Z",
      "include_colab_link": true
    },
    "kernelspec": {
      "name": "python3",
      "display_name": "Python 3"
    },
    "language_info": {
      "name": "python"
    }
  },
  "cells": [
    {
      "cell_type": "markdown",
      "metadata": {
        "id": "view-in-github",
        "colab_type": "text"
      },
      "source": [
        "<a href=\"https://colab.research.google.com/github/RavitejaGundimeda/Pattern-Recognition---Python/blob/main/K_Means_Partial_Overlap.ipynb\" target=\"_parent\"><img src=\"https://colab.research.google.com/assets/colab-badge.svg\" alt=\"Open In Colab\"/></a>"
      ]
    },
    {
      "cell_type": "code",
      "execution_count": null,
      "metadata": {
        "colab": {
          "base_uri": "https://localhost:8080/",
          "height": 295
        },
        "id": "iWl94OnyjZ8Z",
        "outputId": "cd1425cc-82bc-4c6b-d2b4-067cd54b6dde"
      },
      "outputs": [
        {
          "output_type": "display_data",
          "data": {
            "image/png": "[encoded data removed]",
            "text/plain": [
              "<Figure size 432x288 with 1 Axes>"
            ]
          },
          "metadata": {
            "needs_background": "light"
          }
        }
      ],
      "source": [
        "#Finding optimal number of clusters using the elbow method  \n",
        "import matplotlib.pyplot as plt\n",
        "import numpy as np\n",
        "import pandas as pd\n",
        "import plotly.figure_factory as ff\n",
        "from sklearn.cluster import KMeans  \n",
        "  \n",
        "\n",
        "def multi_class_norm_plot_df(means, data_sizes, cov, title):\n",
        "    colours = ['b','c','r','g','m']\n",
        "    classes = len(means)\n",
        "    x_points, y_points, output_class = [],[],[]\n",
        "    X_full,y_full = [],[]\n",
        "    class_value = 0 \n",
        "    for i in range(classes):\n",
        "        x, y = np.random.multivariate_normal(means[i], cov, data_sizes[i]).T\n",
        "        for j in range(data_sizes[i]):\n",
        "            X_full.append([x[j],y[j]])\n",
        "            y_full.append(class_value)\n",
        "        class_value +=1\n",
        "        \n",
        "        \n",
        "    return np.array(X_full),np.array(y_full)\n",
        "\n",
        "#Negative covariance\n",
        "neg_cov = [[1, -0.7], [-0.7, 1]]\n",
        "#Positive covariance\n",
        "pos_cov = [[1, 0.7], [0.7, 1]]\n",
        "\n",
        "\n",
        "\n",
        "#Input means for partially overlap classes\n",
        "means = [[0,0],[1.5,1.5]]\n",
        "#Input data size's for partially overlap classes\n",
        "data_sizes = [50,50]\n",
        "#plt.plot()\n",
        "X,y = multi_class_norm_plot_df(means, data_sizes, pos_cov, \"Positive Covariance & Partial Overlap\")\n",
        "  \n",
        "sos= []  #Initializing the list for the values of WCSS\n",
        "#Using for loop for iterations from 1 to 10.  \n",
        "for i in range(1, 6):  \n",
        "    kmeans = KMeans(n_clusters=i, init='k-means++', random_state= 42)  \n",
        "    kmeans.fit(X)  \n",
        "    sos.append(kmeans.inertia_)  \n",
        "plt.plot(range(1, 6), sos)  \n",
        "#Using elbow method, we find no, of clusters\n",
        "plt.title('The Elbow Method Graph')  \n",
        "plt.xlabel('Number of clusters(k)')  \n",
        "plt.ylabel('Sum of squares(sos) within cluster')  \n",
        "plt.show()  \n",
        "\n"
      ]
    },
    {
      "cell_type": "code",
      "source": [
        " "
      ],
      "metadata": {
        "id": "rlErJwWVj-fh"
      },
      "execution_count": null,
      "outputs": []
    },
    {
      "cell_type": "code",
      "source": [
        "#training the K-means model on a dataset \n",
        "no_of_clusters = 2\n",
        "kmeans = KMeans(n_clusters= no_of_clusters, init='k-means++', random_state= 42)  \n",
        "\n",
        "#Fitting K means classifier to train set\n",
        "y_predict= kmeans.fit_predict(X) \n",
        "\n",
        "y_predict = np.array([(i+(no_of_clusters-1))% no_of_clusters for i in y_predict])\n",
        "#print(kmeans.labels_)\n",
        "\n",
        "#Plotting the scatter plots\n",
        "plt.scatter(X[y_predict == 0, 0], X[y_predict == 0, 1], s = 100, c = 'blue', label = 'Cluster 1') #for first cluster  \n",
        "plt.scatter(X[y_predict == 1, 0], X[y_predict == 1, 1], s = 100, c = 'green', label = 'Cluster 2') #for second cluster  \n",
        "#plt.scatter(X[y_predict== 2, 0], X[y_predict == 2, 1], s = 100, c = 'cyan', label = 'Cluster 3') #for third cluster  \n",
        "plt.scatter(kmeans.cluster_centers_[:, 0], kmeans.cluster_centers_[:, 1], s = 300, c = 'red', label = 'Centroid')   \n",
        "plt.title('K-Means Clustering')  \n",
        "plt.show()"
      ],
      "metadata": {
        "colab": {
          "base_uri": "https://localhost:8080/",
          "height": 281
        },
        "id": "urtSDt_Vka7A",
        "outputId": "0d7a3647-55c9-45b3-e360-abfbf7c57a2f"
      },
      "execution_count": null,
      "outputs": [
        {
          "output_type": "display_data",
          "data": {
            "image/png": "[encoded data removed]",
            "text/plain": [
              "<Figure size 432x288 with 1 Axes>"
            ]
          },
          "metadata": {
            "needs_background": "light"
          }
        }
      ]
    },
    {
      "cell_type": "code",
      "source": [
        "from sklearn.metrics import confusion_matrix,accuracy_score\n",
        "print(confusion_matrix(y, y_predict))\n",
        "print('Accuracy Percentage: '+str(round((accuracy_score(y,y_predict)),4) * 100)+\"%\" )"
      ],
      "metadata": {
        "colab": {
          "base_uri": "https://localhost:8080/"
        },
        "id": "My-u8TBnnKRP",
        "outputId": "2c6df19e-caaa-4fb1-9367-c3eca3314d4e"
      },
      "execution_count": null,
      "outputs": [
        {
          "output_type": "stream",
          "name": "stdout",
          "text": [
            "[[41  9]\n",
            " [12 38]]\n",
            "Accuracy Percentage: 79.0%\n"
          ]
        }
      ]
    }
  ]
}